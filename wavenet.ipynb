{
  "nbformat": 4,
  "nbformat_minor": 0,
  "metadata": {
    "colab": {
      "name": "wavenet",
      "provenance": [],
      "collapsed_sections": [],
      "include_colab_link": true
    },
    "kernelspec": {
      "name": "python3",
      "display_name": "Python 3"
    },
    "accelerator": "GPU"
  },
  "cells": [
    {
      "cell_type": "markdown",
      "metadata": {
        "id": "view-in-github",
        "colab_type": "text"
      },
      "source": [
        "<a href=\"https://colab.research.google.com/github/JonasZimmer1994/deeplearning_wavenet/blob/master/wavenet.ipynb\" target=\"_parent\"><img src=\"https://colab.research.google.com/assets/colab-badge.svg\" alt=\"Open In Colab\"/></a>"
      ]
    },
    {
      "cell_type": "code",
      "metadata": {
        "id": "sCoboZj5bu3N",
        "colab_type": "code",
        "outputId": "264a817b-b44e-4acd-e906-6bfa4a367fb3",
        "colab": {
          "base_uri": "https://localhost:8080/",
          "height": 92
        }
      },
      "source": [
        "!pip3 install http://download.pytorch.org/whl/cu80/torch-0.3.0.post4-cp36-cp36m-linux_x86_64.whl "
      ],
      "execution_count": 2,
      "outputs": [
        {
          "output_type": "stream",
          "text": [
            "Requirement already satisfied: torch==0.3.0.post4 from http://download.pytorch.org/whl/cu80/torch-0.3.0.post4-cp36-cp36m-linux_x86_64.whl in /usr/local/lib/python3.6/dist-packages (0.3.0.post4)\n",
            "Requirement already satisfied: numpy in /usr/local/lib/python3.6/dist-packages (from torch==0.3.0.post4) (1.17.4)\n",
            "Requirement already satisfied: pyyaml in /usr/local/lib/python3.6/dist-packages (from torch==0.3.0.post4) (3.13)\n"
          ],
          "name": "stdout"
        }
      ]
    },
    {
      "cell_type": "code",
      "metadata": {
        "id": "748bO1ajc1um",
        "colab_type": "code",
        "colab": {}
      },
      "source": [
        "!pip3 install numpy"
      ],
      "execution_count": 0,
      "outputs": []
    },
    {
      "cell_type": "code",
      "metadata": {
        "id": "XLlLC43dc7e6",
        "colab_type": "code",
        "colab": {}
      },
      "source": [
        "!pip3 install librosa"
      ],
      "execution_count": 0,
      "outputs": []
    },
    {
      "cell_type": "code",
      "metadata": {
        "id": "nOSbZX5Yc_cB",
        "colab_type": "code",
        "colab": {}
      },
      "source": [
        "!pip3 install jupyter"
      ],
      "execution_count": 0,
      "outputs": []
    },
    {
      "cell_type": "code",
      "metadata": {
        "id": "7e5fHMDkdFPH",
        "colab_type": "code",
        "colab": {}
      },
      "source": [
        "!pip3 install tensorflow"
      ],
      "execution_count": 0,
      "outputs": []
    },
    {
      "cell_type": "code",
      "metadata": {
        "id": "c5mkKTNsddlw",
        "colab_type": "code",
        "outputId": "ee602be4-fbb0-4b0e-c690-0b3217d6304d",
        "colab": {
          "base_uri": "https://localhost:8080/",
          "height": 108
        }
      },
      "source": [
        "!git clone https://github.com/vincentherrmann/pytorch-wavenet.git"
      ],
      "execution_count": 3,
      "outputs": [
        {
          "output_type": "stream",
          "text": [
            "Cloning into 'pytorch-wavenet'...\n",
            "remote: Enumerating objects: 1154, done.\u001b[K\n",
            "remote: Total 1154 (delta 0), reused 0 (delta 0), pack-reused 1154\u001b[K\n",
            "Receiving objects: 100% (1154/1154), 268.94 MiB | 35.56 MiB/s, done.\n",
            "Resolving deltas: 100% (713/713), done.\n"
          ],
          "name": "stdout"
        }
      ]
    },
    {
      "cell_type": "code",
      "metadata": {
        "id": "iwWjGPkfffaF",
        "colab_type": "code",
        "outputId": "39c3498a-5cfa-4d47-c52b-cef544ecc0f0",
        "colab": {
          "base_uri": "https://localhost:8080/",
          "height": 35
        }
      },
      "source": [
        "%cd /content/pytorch-wavenet/"
      ],
      "execution_count": 4,
      "outputs": [
        {
          "output_type": "stream",
          "text": [
            "/content/pytorch-wavenet\n"
          ],
          "name": "stdout"
        }
      ]
    },
    {
      "cell_type": "code",
      "metadata": {
        "id": "J8Gc6zAPf9se",
        "colab_type": "code",
        "colab": {}
      },
      "source": [
        "import torch\n",
        "from wavenet_model import *\n",
        "from audio_data import WavenetDataset\n",
        "from wavenet_training import *\n",
        "from model_logging import *"
      ],
      "execution_count": 0,
      "outputs": []
    },
    {
      "cell_type": "code",
      "metadata": {
        "id": "11-JVuArgMmU",
        "colab_type": "code",
        "outputId": "e3e889d3-040a-4bc7-95e3-5e5090c4694d",
        "colab": {
          "base_uri": "https://localhost:8080/",
          "height": 35
        }
      },
      "source": [
        "# initialize cuda option\n",
        "dtype = torch.FloatTensor # data type\n",
        "ltype = torch.LongTensor # label type\n",
        "\n",
        "use_cuda = torch.cuda.is_available()\n",
        "if use_cuda:\n",
        "    print('use gpu')\n",
        "    dtype = torch.cuda.FloatTensor\n",
        "    ltype = torch.cuda.LongTensor"
      ],
      "execution_count": 11,
      "outputs": [
        {
          "output_type": "stream",
          "text": [
            "use gpu\n"
          ],
          "name": "stdout"
        }
      ]
    },
    {
      "cell_type": "code",
      "metadata": {
        "id": "tqvWpXvygx7i",
        "colab_type": "code",
        "outputId": "03244e2f-1f80-44d3-b321-8f66d8ceedca",
        "colab": {
          "base_uri": "https://localhost:8080/",
          "height": 1000
        }
      },
      "source": [
        "model = WaveNetModel(layers=5,\n",
        "                     blocks=3,\n",
        "                     dilation_channels=32,\n",
        "                     residual_channels=32,\n",
        "                     skip_channels=1024,\n",
        "                     end_channels=512, \n",
        "                     output_length=16,\n",
        "                     dtype=dtype, \n",
        "                     bias=True)\n",
        "# model = load_latest_model_from('snapshots', use_cuda=use_cuda)\n",
        "\n",
        "print('model: ', model)\n",
        "print('receptive field: ', model.receptive_field)\n",
        "print('parameter count: ', model.parameter_count())\n",
        "\n"
      ],
      "execution_count": 12,
      "outputs": [
        {
          "output_type": "stream",
          "text": [
            "model:  WaveNetModel(\n",
            "  (filter_convs): ModuleList(\n",
            "    (0): Conv1d (32, 32, kernel_size=(2,), stride=(1,))\n",
            "    (1): Conv1d (32, 32, kernel_size=(2,), stride=(1,))\n",
            "    (2): Conv1d (32, 32, kernel_size=(2,), stride=(1,))\n",
            "    (3): Conv1d (32, 32, kernel_size=(2,), stride=(1,))\n",
            "    (4): Conv1d (32, 32, kernel_size=(2,), stride=(1,))\n",
            "    (5): Conv1d (32, 32, kernel_size=(2,), stride=(1,))\n",
            "    (6): Conv1d (32, 32, kernel_size=(2,), stride=(1,))\n",
            "    (7): Conv1d (32, 32, kernel_size=(2,), stride=(1,))\n",
            "    (8): Conv1d (32, 32, kernel_size=(2,), stride=(1,))\n",
            "    (9): Conv1d (32, 32, kernel_size=(2,), stride=(1,))\n",
            "    (10): Conv1d (32, 32, kernel_size=(2,), stride=(1,))\n",
            "    (11): Conv1d (32, 32, kernel_size=(2,), stride=(1,))\n",
            "    (12): Conv1d (32, 32, kernel_size=(2,), stride=(1,))\n",
            "    (13): Conv1d (32, 32, kernel_size=(2,), stride=(1,))\n",
            "    (14): Conv1d (32, 32, kernel_size=(2,), stride=(1,))\n",
            "  )\n",
            "  (gate_convs): ModuleList(\n",
            "    (0): Conv1d (32, 32, kernel_size=(2,), stride=(1,))\n",
            "    (1): Conv1d (32, 32, kernel_size=(2,), stride=(1,))\n",
            "    (2): Conv1d (32, 32, kernel_size=(2,), stride=(1,))\n",
            "    (3): Conv1d (32, 32, kernel_size=(2,), stride=(1,))\n",
            "    (4): Conv1d (32, 32, kernel_size=(2,), stride=(1,))\n",
            "    (5): Conv1d (32, 32, kernel_size=(2,), stride=(1,))\n",
            "    (6): Conv1d (32, 32, kernel_size=(2,), stride=(1,))\n",
            "    (7): Conv1d (32, 32, kernel_size=(2,), stride=(1,))\n",
            "    (8): Conv1d (32, 32, kernel_size=(2,), stride=(1,))\n",
            "    (9): Conv1d (32, 32, kernel_size=(2,), stride=(1,))\n",
            "    (10): Conv1d (32, 32, kernel_size=(2,), stride=(1,))\n",
            "    (11): Conv1d (32, 32, kernel_size=(2,), stride=(1,))\n",
            "    (12): Conv1d (32, 32, kernel_size=(2,), stride=(1,))\n",
            "    (13): Conv1d (32, 32, kernel_size=(2,), stride=(1,))\n",
            "    (14): Conv1d (32, 32, kernel_size=(2,), stride=(1,))\n",
            "  )\n",
            "  (residual_convs): ModuleList(\n",
            "    (0): Conv1d (32, 32, kernel_size=(1,), stride=(1,))\n",
            "    (1): Conv1d (32, 32, kernel_size=(1,), stride=(1,))\n",
            "    (2): Conv1d (32, 32, kernel_size=(1,), stride=(1,))\n",
            "    (3): Conv1d (32, 32, kernel_size=(1,), stride=(1,))\n",
            "    (4): Conv1d (32, 32, kernel_size=(1,), stride=(1,))\n",
            "    (5): Conv1d (32, 32, kernel_size=(1,), stride=(1,))\n",
            "    (6): Conv1d (32, 32, kernel_size=(1,), stride=(1,))\n",
            "    (7): Conv1d (32, 32, kernel_size=(1,), stride=(1,))\n",
            "    (8): Conv1d (32, 32, kernel_size=(1,), stride=(1,))\n",
            "    (9): Conv1d (32, 32, kernel_size=(1,), stride=(1,))\n",
            "    (10): Conv1d (32, 32, kernel_size=(1,), stride=(1,))\n",
            "    (11): Conv1d (32, 32, kernel_size=(1,), stride=(1,))\n",
            "    (12): Conv1d (32, 32, kernel_size=(1,), stride=(1,))\n",
            "    (13): Conv1d (32, 32, kernel_size=(1,), stride=(1,))\n",
            "    (14): Conv1d (32, 32, kernel_size=(1,), stride=(1,))\n",
            "  )\n",
            "  (skip_convs): ModuleList(\n",
            "    (0): Conv1d (32, 1024, kernel_size=(1,), stride=(1,))\n",
            "    (1): Conv1d (32, 1024, kernel_size=(1,), stride=(1,))\n",
            "    (2): Conv1d (32, 1024, kernel_size=(1,), stride=(1,))\n",
            "    (3): Conv1d (32, 1024, kernel_size=(1,), stride=(1,))\n",
            "    (4): Conv1d (32, 1024, kernel_size=(1,), stride=(1,))\n",
            "    (5): Conv1d (32, 1024, kernel_size=(1,), stride=(1,))\n",
            "    (6): Conv1d (32, 1024, kernel_size=(1,), stride=(1,))\n",
            "    (7): Conv1d (32, 1024, kernel_size=(1,), stride=(1,))\n",
            "    (8): Conv1d (32, 1024, kernel_size=(1,), stride=(1,))\n",
            "    (9): Conv1d (32, 1024, kernel_size=(1,), stride=(1,))\n",
            "    (10): Conv1d (32, 1024, kernel_size=(1,), stride=(1,))\n",
            "    (11): Conv1d (32, 1024, kernel_size=(1,), stride=(1,))\n",
            "    (12): Conv1d (32, 1024, kernel_size=(1,), stride=(1,))\n",
            "    (13): Conv1d (32, 1024, kernel_size=(1,), stride=(1,))\n",
            "    (14): Conv1d (32, 1024, kernel_size=(1,), stride=(1,))\n",
            "  )\n",
            "  (start_conv): Conv1d (256, 32, kernel_size=(1,), stride=(1,))\n",
            "  (end_conv_1): Conv1d (1024, 512, kernel_size=(1,), stride=(1,))\n",
            "  (end_conv_2): Conv1d (512, 256, kernel_size=(1,), stride=(1,))\n",
            ")\n",
            "receptive field:  94\n",
            "parameter count:  1249472\n"
          ],
          "name": "stdout"
        }
      ]
    },
    {
      "cell_type": "code",
      "metadata": {
        "id": "nnYuu0nnhCgM",
        "colab_type": "code",
        "outputId": "ad067302-49d2-4ac8-e1d0-3824c92ac62b",
        "colab": {
          "base_uri": "https://localhost:8080/",
          "height": 126
        }
      },
      "source": [
        "data = WavenetDataset(dataset_file='train_samples/bach_chaconne/dataset.npz',\n",
        "                      item_length=model.receptive_field + model.output_length - 1,\n",
        "                      target_length=model.output_length,\n",
        "                      file_location='train_samples/bach_chaconne',\n",
        "                      test_stride=500)\n",
        "print('the dataset has ' + str(len(data)) + ' items')"
      ],
      "execution_count": 13,
      "outputs": [
        {
          "output_type": "stream",
          "text": [
            "create dataset from audio files at train_samples/bach_chaconne\n",
            "  processed 0 of 3 files\n",
            "  processed 1 of 3 files\n",
            "  processed 2 of 3 files\n",
            "one hot input\n",
            "the dataset has 47899 items\n"
          ],
          "name": "stdout"
        }
      ]
    },
    {
      "cell_type": "code",
      "metadata": {
        "id": "raUkvSr8hwNZ",
        "colab_type": "code",
        "colab": {}
      },
      "source": [
        "def generate_and_log_samples(step):\n",
        "    sample_length=32000\n",
        "    gen_model = load_latest_model_from('snapshots', use_cuda=False)\n",
        "    print(\"start generating...\")\n",
        "    samples = generate_audio(gen_model,\n",
        "                             length=sample_length,\n",
        "                             temperatures=[0.5])\n",
        "    tf_samples = tf.convert_to_tensor(samples, dtype=tf.float32)\n",
        "    logger.audio_summary('temperature_0.5', tf_samples, step, sr=16000)\n",
        "\n",
        "    samples = generate_audio(gen_model,\n",
        "                             length=sample_length,\n",
        "                             temperatures=[1.])\n",
        "    tf_samples = tf.convert_to_tensor(samples, dtype=tf.float32)\n",
        "    logger.audio_summary('temperature_1.0', tf_samples, step, sr=16000)\n",
        "    print(\"audio clips generated\")\n",
        "\n",
        "\n",
        "logger = TensorboardLogger(log_interval=200,\n",
        "                           validation_interval=400,\n",
        "                           generate_interval=1000,\n",
        "                           generate_function=generate_and_log_samples,\n",
        "                           log_dir=\"logs/chaconne_model\")\n",
        "\n",
        "# logger = Logger(log_interval=200,\n",
        "#                 validation_interval=400,\n",
        "#                 generate_interval=1000)\n",
        "\n"
      ],
      "execution_count": 0,
      "outputs": []
    },
    {
      "cell_type": "code",
      "metadata": {
        "id": "_rOHJV-kjzLT",
        "colab_type": "code",
        "outputId": "fdd0ea2b-321e-40dc-fa1c-bd105d7b12b3",
        "colab": {
          "base_uri": "https://localhost:8080/",
          "height": 290
        }
      },
      "source": [
        "trainer = WavenetTrainer(model=model,\n",
        "                         dataset=data,\n",
        "                         lr=0.001,\n",
        "                         snapshot_path='snapshots',\n",
        "                         snapshot_name='chaconne_model',\n",
        "                         snapshot_interval=1000,\n",
        "                         logger=logger,\n",
        "                         dtype=dtype,\n",
        "                         ltype=ltype)\n",
        "\n",
        "\n",
        "print('start training...')\n",
        "trainer.train(batch_size=16,\n",
        "              epochs=3)"
      ],
      "execution_count": 24,
      "outputs": [
        {
          "output_type": "stream",
          "text": [
            "start training...\n",
            "epoch 0\n",
            "one training step does take approximately 0.05066680431365967 seconds)\n",
            "load model snapshots/chaconne_model_2019-11-14_16-40-30\n",
            "start generating...\n",
            "one generating step does take approximately 0.02576794385910034 seconds)\n",
            "Last generate is still running, skipping this one\n",
            "epoch 1\n",
            "Last generate is still running, skipping this one\n",
            "Last generate is still running, skipping this one\n",
            "Last generate is still running, skipping this one\n",
            "epoch 2\n",
            "Last generate is still running, skipping this one\n",
            "Last generate is still running, skipping this one\n",
            "Last generate is still running, skipping this one\n"
          ],
          "name": "stdout"
        }
      ]
    },
    {
      "cell_type": "code",
      "metadata": {
        "id": "_L5H7PP_MqRG",
        "colab_type": "code",
        "outputId": "a4ee1b30-a33a-4889-fd5c-e71a372df355",
        "colab": {
          "base_uri": "https://localhost:8080/",
          "height": 378
        }
      },
      "source": [
        "start_data = data[25000][0] # use start data from the data set\n",
        "start_data = torch.max(start_data, 0)[1] # convert one hot vectors to integers\n",
        "\n",
        "def prog_callback(step, total_steps):\n",
        "    print(str(100 * step // total_steps) + \"% generated\")\n",
        "\n",
        "\n",
        "model.cuda()\n",
        "generated = model.generate_fast(num_samples=160000,\n",
        "                                 first_samples=start_data,\n",
        "                                 progress_callback=prog_callback,\n",
        "                                 progress_interval=1000,\n",
        "                                 temperature=1.0,\n",
        "                                 regularize=0.1)"
      ],
      "execution_count": 26,
      "outputs": [
        {
          "output_type": "error",
          "ename": "RuntimeError",
          "evalue": "ignored",
          "traceback": [
            "\u001b[0;31m---------------------------------------------------------------------------\u001b[0m",
            "\u001b[0;31mRuntimeError\u001b[0m                              Traceback (most recent call last)",
            "\u001b[0;32m<ipython-input-26-e13b6e9681df>\u001b[0m in \u001b[0;36m<module>\u001b[0;34m()\u001b[0m\n\u001b[1;32m     12\u001b[0m                                  \u001b[0mprogress_interval\u001b[0m\u001b[0;34m=\u001b[0m\u001b[0;36m1000\u001b[0m\u001b[0;34m,\u001b[0m\u001b[0;34m\u001b[0m\u001b[0;34m\u001b[0m\u001b[0m\n\u001b[1;32m     13\u001b[0m                                  \u001b[0mtemperature\u001b[0m\u001b[0;34m=\u001b[0m\u001b[0;36m1.0\u001b[0m\u001b[0;34m,\u001b[0m\u001b[0;34m\u001b[0m\u001b[0;34m\u001b[0m\u001b[0m\n\u001b[0;32m---> 14\u001b[0;31m                                  regularize=0.1)\n\u001b[0m",
            "\u001b[0;32m/content/pytorch-wavenet/wavenet_model.py\u001b[0m in \u001b[0;36mgenerate_fast\u001b[0;34m(self, num_samples, first_samples, temperature, regularize, progress_callback, progress_interval)\u001b[0m\n\u001b[1;32m    260\u001b[0m         \u001b[0;32mfor\u001b[0m \u001b[0mi\u001b[0m \u001b[0;32min\u001b[0m \u001b[0mrange\u001b[0m\u001b[0;34m(\u001b[0m\u001b[0mnum_given_samples\u001b[0m \u001b[0;34m-\u001b[0m \u001b[0;36m1\u001b[0m\u001b[0;34m)\u001b[0m\u001b[0;34m:\u001b[0m\u001b[0;34m\u001b[0m\u001b[0;34m\u001b[0m\u001b[0m\n\u001b[1;32m    261\u001b[0m             x = self.wavenet(input,\n\u001b[0;32m--> 262\u001b[0;31m                              dilation_func=self.queue_dilate)\n\u001b[0m\u001b[1;32m    263\u001b[0m             \u001b[0minput\u001b[0m\u001b[0;34m.\u001b[0m\u001b[0mzero_\u001b[0m\u001b[0;34m(\u001b[0m\u001b[0;34m)\u001b[0m\u001b[0;34m\u001b[0m\u001b[0;34m\u001b[0m\u001b[0m\n\u001b[1;32m    264\u001b[0m             \u001b[0minput\u001b[0m \u001b[0;34m=\u001b[0m \u001b[0minput\u001b[0m\u001b[0;34m.\u001b[0m\u001b[0mscatter_\u001b[0m\u001b[0;34m(\u001b[0m\u001b[0;36m1\u001b[0m\u001b[0;34m,\u001b[0m \u001b[0mfirst_samples\u001b[0m\u001b[0;34m[\u001b[0m\u001b[0mi\u001b[0m \u001b[0;34m+\u001b[0m \u001b[0;36m1\u001b[0m\u001b[0;34m:\u001b[0m\u001b[0mi\u001b[0m \u001b[0;34m+\u001b[0m \u001b[0;36m2\u001b[0m\u001b[0;34m]\u001b[0m\u001b[0;34m.\u001b[0m\u001b[0mview\u001b[0m\u001b[0;34m(\u001b[0m\u001b[0;36m1\u001b[0m\u001b[0;34m,\u001b[0m \u001b[0;34m-\u001b[0m\u001b[0;36m1\u001b[0m\u001b[0;34m,\u001b[0m \u001b[0;36m1\u001b[0m\u001b[0;34m)\u001b[0m\u001b[0;34m,\u001b[0m \u001b[0;36m1.\u001b[0m\u001b[0;34m)\u001b[0m\u001b[0;34m.\u001b[0m\u001b[0mview\u001b[0m\u001b[0;34m(\u001b[0m\u001b[0;36m1\u001b[0m\u001b[0;34m,\u001b[0m \u001b[0mself\u001b[0m\u001b[0;34m.\u001b[0m\u001b[0mclasses\u001b[0m\u001b[0;34m,\u001b[0m \u001b[0;36m1\u001b[0m\u001b[0;34m)\u001b[0m\u001b[0;34m\u001b[0m\u001b[0;34m\u001b[0m\u001b[0m\n",
            "\u001b[0;32m/content/pytorch-wavenet/wavenet_model.py\u001b[0m in \u001b[0;36mwavenet\u001b[0;34m(self, input, dilation_func)\u001b[0m\n\u001b[1;32m    125\u001b[0m     \u001b[0;32mdef\u001b[0m \u001b[0mwavenet\u001b[0m\u001b[0;34m(\u001b[0m\u001b[0mself\u001b[0m\u001b[0;34m,\u001b[0m \u001b[0minput\u001b[0m\u001b[0;34m,\u001b[0m \u001b[0mdilation_func\u001b[0m\u001b[0;34m)\u001b[0m\u001b[0;34m:\u001b[0m\u001b[0;34m\u001b[0m\u001b[0;34m\u001b[0m\u001b[0m\n\u001b[1;32m    126\u001b[0m \u001b[0;34m\u001b[0m\u001b[0m\n\u001b[0;32m--> 127\u001b[0;31m         \u001b[0mx\u001b[0m \u001b[0;34m=\u001b[0m \u001b[0mself\u001b[0m\u001b[0;34m.\u001b[0m\u001b[0mstart_conv\u001b[0m\u001b[0;34m(\u001b[0m\u001b[0minput\u001b[0m\u001b[0;34m)\u001b[0m\u001b[0;34m\u001b[0m\u001b[0;34m\u001b[0m\u001b[0m\n\u001b[0m\u001b[1;32m    128\u001b[0m         \u001b[0mskip\u001b[0m \u001b[0;34m=\u001b[0m \u001b[0;36m0\u001b[0m\u001b[0;34m\u001b[0m\u001b[0;34m\u001b[0m\u001b[0m\n\u001b[1;32m    129\u001b[0m \u001b[0;34m\u001b[0m\u001b[0m\n",
            "\u001b[0;32m/usr/local/lib/python3.6/dist-packages/torch/nn/modules/module.py\u001b[0m in \u001b[0;36m__call__\u001b[0;34m(self, *input, **kwargs)\u001b[0m\n\u001b[1;32m    323\u001b[0m         \u001b[0;32mfor\u001b[0m \u001b[0mhook\u001b[0m \u001b[0;32min\u001b[0m \u001b[0mself\u001b[0m\u001b[0;34m.\u001b[0m\u001b[0m_forward_pre_hooks\u001b[0m\u001b[0;34m.\u001b[0m\u001b[0mvalues\u001b[0m\u001b[0;34m(\u001b[0m\u001b[0;34m)\u001b[0m\u001b[0;34m:\u001b[0m\u001b[0;34m\u001b[0m\u001b[0;34m\u001b[0m\u001b[0m\n\u001b[1;32m    324\u001b[0m             \u001b[0mhook\u001b[0m\u001b[0;34m(\u001b[0m\u001b[0mself\u001b[0m\u001b[0;34m,\u001b[0m \u001b[0minput\u001b[0m\u001b[0;34m)\u001b[0m\u001b[0;34m\u001b[0m\u001b[0;34m\u001b[0m\u001b[0m\n\u001b[0;32m--> 325\u001b[0;31m         \u001b[0mresult\u001b[0m \u001b[0;34m=\u001b[0m \u001b[0mself\u001b[0m\u001b[0;34m.\u001b[0m\u001b[0mforward\u001b[0m\u001b[0;34m(\u001b[0m\u001b[0;34m*\u001b[0m\u001b[0minput\u001b[0m\u001b[0;34m,\u001b[0m \u001b[0;34m**\u001b[0m\u001b[0mkwargs\u001b[0m\u001b[0;34m)\u001b[0m\u001b[0;34m\u001b[0m\u001b[0;34m\u001b[0m\u001b[0m\n\u001b[0m\u001b[1;32m    326\u001b[0m         \u001b[0;32mfor\u001b[0m \u001b[0mhook\u001b[0m \u001b[0;32min\u001b[0m \u001b[0mself\u001b[0m\u001b[0;34m.\u001b[0m\u001b[0m_forward_hooks\u001b[0m\u001b[0;34m.\u001b[0m\u001b[0mvalues\u001b[0m\u001b[0;34m(\u001b[0m\u001b[0;34m)\u001b[0m\u001b[0;34m:\u001b[0m\u001b[0;34m\u001b[0m\u001b[0;34m\u001b[0m\u001b[0m\n\u001b[1;32m    327\u001b[0m             \u001b[0mhook_result\u001b[0m \u001b[0;34m=\u001b[0m \u001b[0mhook\u001b[0m\u001b[0;34m(\u001b[0m\u001b[0mself\u001b[0m\u001b[0;34m,\u001b[0m \u001b[0minput\u001b[0m\u001b[0;34m,\u001b[0m \u001b[0mresult\u001b[0m\u001b[0;34m)\u001b[0m\u001b[0;34m\u001b[0m\u001b[0;34m\u001b[0m\u001b[0m\n",
            "\u001b[0;32m/usr/local/lib/python3.6/dist-packages/torch/nn/modules/conv.py\u001b[0m in \u001b[0;36mforward\u001b[0;34m(self, input)\u001b[0m\n\u001b[1;32m    164\u001b[0m     \u001b[0;32mdef\u001b[0m \u001b[0mforward\u001b[0m\u001b[0;34m(\u001b[0m\u001b[0mself\u001b[0m\u001b[0;34m,\u001b[0m \u001b[0minput\u001b[0m\u001b[0;34m)\u001b[0m\u001b[0;34m:\u001b[0m\u001b[0;34m\u001b[0m\u001b[0;34m\u001b[0m\u001b[0m\n\u001b[1;32m    165\u001b[0m         return F.conv1d(input, self.weight, self.bias, self.stride,\n\u001b[0;32m--> 166\u001b[0;31m                         self.padding, self.dilation, self.groups)\n\u001b[0m\u001b[1;32m    167\u001b[0m \u001b[0;34m\u001b[0m\u001b[0m\n\u001b[1;32m    168\u001b[0m \u001b[0;34m\u001b[0m\u001b[0m\n",
            "\u001b[0;32m/usr/local/lib/python3.6/dist-packages/torch/nn/functional.py\u001b[0m in \u001b[0;36mconv1d\u001b[0;34m(input, weight, bias, stride, padding, dilation, groups)\u001b[0m\n\u001b[1;32m     52\u001b[0m                 \u001b[0m_single\u001b[0m\u001b[0;34m(\u001b[0m\u001b[0;36m0\u001b[0m\u001b[0;34m)\u001b[0m\u001b[0;34m,\u001b[0m \u001b[0mgroups\u001b[0m\u001b[0;34m,\u001b[0m \u001b[0mtorch\u001b[0m\u001b[0;34m.\u001b[0m\u001b[0mbackends\u001b[0m\u001b[0;34m.\u001b[0m\u001b[0mcudnn\u001b[0m\u001b[0;34m.\u001b[0m\u001b[0mbenchmark\u001b[0m\u001b[0;34m,\u001b[0m\u001b[0;34m\u001b[0m\u001b[0;34m\u001b[0m\u001b[0m\n\u001b[1;32m     53\u001b[0m                 torch.backends.cudnn.deterministic, torch.backends.cudnn.enabled)\n\u001b[0;32m---> 54\u001b[0;31m     \u001b[0;32mreturn\u001b[0m \u001b[0mf\u001b[0m\u001b[0;34m(\u001b[0m\u001b[0minput\u001b[0m\u001b[0;34m,\u001b[0m \u001b[0mweight\u001b[0m\u001b[0;34m,\u001b[0m \u001b[0mbias\u001b[0m\u001b[0;34m)\u001b[0m\u001b[0;34m\u001b[0m\u001b[0;34m\u001b[0m\u001b[0m\n\u001b[0m\u001b[1;32m     55\u001b[0m \u001b[0;34m\u001b[0m\u001b[0m\n\u001b[1;32m     56\u001b[0m \u001b[0;34m\u001b[0m\u001b[0m\n",
            "\u001b[0;31mRuntimeError\u001b[0m: Expected object of type torch.FloatTensor but found type torch.cuda.FloatTensor for argument #2 'weight'"
          ]
        }
      ]
    }
  ]
}