{
  "nbformat": 4,
  "nbformat_minor": 0,
  "metadata": {
    "colab": {
      "name": "wavenet_abgabe.ipynb",
      "provenance": [],
      "collapsed_sections": [],
      "include_colab_link": true
    },
    "kernelspec": {
      "name": "python3",
      "display_name": "Python 3"
    }
  },
  "cells": [
    {
      "cell_type": "markdown",
      "metadata": {
        "id": "view-in-github",
        "colab_type": "text"
      },
      "source": [
        "<a href=\"https://colab.research.google.com/github/JonasZimmer1994/deeplearning_wavenet/blob/master/wavenet_abgabe.ipynb\" target=\"_parent\"><img src=\"https://colab.research.google.com/assets/colab-badge.svg\" alt=\"Open In Colab\"/></a>"
      ]
    },
    {
      "cell_type": "code",
      "metadata": {
        "id": "9BGUwJjMO6vT",
        "colab_type": "code",
        "outputId": "99360aa0-eeda-4ce4-eb7d-d6f801547504",
        "colab": {
          "base_uri": "https://localhost:8080/",
          "height": 108
        }
      },
      "source": [
        "!git clone https://github.com/vincentherrmann/pytorch-wavenet.git"
      ],
      "execution_count": 0,
      "outputs": [
        {
          "output_type": "stream",
          "text": [
            "Cloning into 'pytorch-wavenet'...\n",
            "remote: Enumerating objects: 1154, done.\u001b[K\n",
            "remote: Total 1154 (delta 0), reused 0 (delta 0), pack-reused 1154\u001b[K\n",
            "Receiving objects: 100% (1154/1154), 268.94 MiB | 32.47 MiB/s, done.\n",
            "Resolving deltas: 100% (713/713), done.\n"
          ],
          "name": "stdout"
        }
      ]
    },
    {
      "cell_type": "code",
      "metadata": {
        "id": "5_hRJUSRPKNz",
        "colab_type": "code",
        "outputId": "3cfd7624-029d-47b6-96d9-2fa34b303928",
        "colab": {
          "base_uri": "https://localhost:8080/",
          "height": 35
        }
      },
      "source": [
        "%cd /content/pytorch-wavenet/"
      ],
      "execution_count": 22,
      "outputs": [
        {
          "output_type": "stream",
          "text": [
            "/content/pytorch-wavenet\n"
          ],
          "name": "stdout"
        }
      ]
    },
    {
      "cell_type": "code",
      "metadata": {
        "id": "0YJbJZfSPU8E",
        "colab_type": "code",
        "outputId": "e8399aa7-efc1-48aa-8a85-d10f3417eb0c",
        "colab": {
          "base_uri": "https://localhost:8080/",
          "height": 92
        }
      },
      "source": [
        "!pip3 install http://download.pytorch.org/whl/cu80/torch-0.3.0.post4-cp36-cp36m-linux_x86_64.whl "
      ],
      "execution_count": 23,
      "outputs": [
        {
          "output_type": "stream",
          "text": [
            "Requirement already satisfied: torch==0.3.0.post4 from http://download.pytorch.org/whl/cu80/torch-0.3.0.post4-cp36-cp36m-linux_x86_64.whl in /usr/local/lib/python3.6/dist-packages (0.3.0.post4)\n",
            "Requirement already satisfied: pyyaml in /usr/local/lib/python3.6/dist-packages (from torch==0.3.0.post4) (3.13)\n",
            "Requirement already satisfied: numpy in /usr/local/lib/python3.6/dist-packages (from torch==0.3.0.post4) (1.17.5)\n"
          ],
          "name": "stdout"
        }
      ]
    },
    {
      "cell_type": "code",
      "metadata": {
        "id": "oI6D8lQ4PXCW",
        "colab_type": "code",
        "outputId": "d673cc98-9bde-4804-a1ff-a6c709ef8f6d",
        "colab": {
          "base_uri": "https://localhost:8080/",
          "height": 364
        }
      },
      "source": [
        "!pip install tensorflow==1.12.0\n",
        "import tensorflow as tf\n",
        "print(tf.__version__)"
      ],
      "execution_count": 24,
      "outputs": [
        {
          "output_type": "stream",
          "text": [
            "Requirement already satisfied: tensorflow==1.12.0 in /usr/local/lib/python3.6/dist-packages (1.12.0)\n",
            "Requirement already satisfied: keras-preprocessing>=1.0.5 in /usr/local/lib/python3.6/dist-packages (from tensorflow==1.12.0) (1.1.0)\n",
            "Requirement already satisfied: numpy>=1.13.3 in /usr/local/lib/python3.6/dist-packages (from tensorflow==1.12.0) (1.17.5)\n",
            "Requirement already satisfied: grpcio>=1.8.6 in /usr/local/lib/python3.6/dist-packages (from tensorflow==1.12.0) (1.15.0)\n",
            "Requirement already satisfied: tensorboard<1.13.0,>=1.12.0 in /usr/local/lib/python3.6/dist-packages (from tensorflow==1.12.0) (1.12.2)\n",
            "Requirement already satisfied: six>=1.10.0 in /usr/local/lib/python3.6/dist-packages (from tensorflow==1.12.0) (1.12.0)\n",
            "Requirement already satisfied: absl-py>=0.1.6 in /usr/local/lib/python3.6/dist-packages (from tensorflow==1.12.0) (0.9.0)\n",
            "Requirement already satisfied: astor>=0.6.0 in /usr/local/lib/python3.6/dist-packages (from tensorflow==1.12.0) (0.8.1)\n",
            "Requirement already satisfied: keras-applications>=1.0.6 in /usr/local/lib/python3.6/dist-packages (from tensorflow==1.12.0) (1.0.8)\n",
            "Requirement already satisfied: protobuf>=3.6.1 in /usr/local/lib/python3.6/dist-packages (from tensorflow==1.12.0) (3.10.0)\n",
            "Requirement already satisfied: wheel>=0.26 in /usr/local/lib/python3.6/dist-packages (from tensorflow==1.12.0) (0.33.6)\n",
            "Requirement already satisfied: gast>=0.2.0 in /usr/local/lib/python3.6/dist-packages (from tensorflow==1.12.0) (0.2.2)\n",
            "Requirement already satisfied: termcolor>=1.1.0 in /usr/local/lib/python3.6/dist-packages (from tensorflow==1.12.0) (1.1.0)\n",
            "Requirement already satisfied: werkzeug>=0.11.10 in /usr/local/lib/python3.6/dist-packages (from tensorboard<1.13.0,>=1.12.0->tensorflow==1.12.0) (0.16.0)\n",
            "Requirement already satisfied: markdown>=2.6.8 in /usr/local/lib/python3.6/dist-packages (from tensorboard<1.13.0,>=1.12.0->tensorflow==1.12.0) (3.1.1)\n",
            "Requirement already satisfied: h5py in /usr/local/lib/python3.6/dist-packages (from keras-applications>=1.0.6->tensorflow==1.12.0) (2.8.0)\n",
            "Requirement already satisfied: setuptools in /usr/local/lib/python3.6/dist-packages (from protobuf>=3.6.1->tensorflow==1.12.0) (42.0.2)\n",
            "1.12.0\n"
          ],
          "name": "stdout"
        }
      ]
    },
    {
      "cell_type": "code",
      "metadata": {
        "id": "Yl3lxiD8Pa9a",
        "colab_type": "code",
        "outputId": "d3332f68-b9de-4d5e-bc65-13c012a8909c",
        "colab": {
          "base_uri": "https://localhost:8080/",
          "height": 253
        }
      },
      "source": [
        "!wget https://bin.equinox.io/c/4VmDzA7iaHb/ngrok-stable-linux-amd64.zip\n",
        "!unzip ngrok-stable-linux-amd64.zip"
      ],
      "execution_count": 0,
      "outputs": [
        {
          "output_type": "stream",
          "text": [
            "--2020-01-08 21:51:39--  https://bin.equinox.io/c/4VmDzA7iaHb/ngrok-stable-linux-amd64.zip\n",
            "Resolving bin.equinox.io (bin.equinox.io)... 34.227.168.133, 3.82.169.244, 34.231.143.21, ...\n",
            "Connecting to bin.equinox.io (bin.equinox.io)|34.227.168.133|:443... connected.\n",
            "HTTP request sent, awaiting response... 200 OK\n",
            "Length: 13773305 (13M) [application/octet-stream]\n",
            "Saving to: ‘ngrok-stable-linux-amd64.zip’\n",
            "\n",
            "ngrok-stable-linux- 100%[===================>]  13.13M  12.8MB/s    in 1.0s    \n",
            "\n",
            "2020-01-08 21:51:41 (12.8 MB/s) - ‘ngrok-stable-linux-amd64.zip’ saved [13773305/13773305]\n",
            "\n",
            "Archive:  ngrok-stable-linux-amd64.zip\n",
            "  inflating: ngrok                   \n"
          ],
          "name": "stdout"
        }
      ]
    },
    {
      "cell_type": "code",
      "metadata": {
        "id": "0afUsjtdPdBH",
        "colab_type": "code",
        "colab": {}
      },
      "source": [
        "LOG_DIR = 'logs/chaconne_model'\n",
        "get_ipython().system_raw(\n",
        "    'tensorboard --logdir {} --host 0.0.0.0 --port 6006 &'\n",
        "    .format(LOG_DIR)\n",
        ")"
      ],
      "execution_count": 0,
      "outputs": []
    },
    {
      "cell_type": "code",
      "metadata": {
        "id": "OMujpom4PfV0",
        "colab_type": "code",
        "colab": {}
      },
      "source": [
        "get_ipython().system_raw('./ngrok http 6006 &')"
      ],
      "execution_count": 0,
      "outputs": []
    },
    {
      "cell_type": "code",
      "metadata": {
        "id": "pK_-oyB1Ph45",
        "colab_type": "code",
        "outputId": "5d73435f-b68e-4ce3-fca8-b3071e75661d",
        "colab": {
          "base_uri": "https://localhost:8080/",
          "height": 35
        }
      },
      "source": [
        "!curl -s http://localhost:4040/api/tunnels | python3 -c \\\n",
        "    \"import sys, json; print(json.load(sys.stdin)['tunnels'][0]['public_url'])\""
      ],
      "execution_count": 0,
      "outputs": [
        {
          "output_type": "stream",
          "text": [
            "https://29351b3c.ngrok.io\n"
          ],
          "name": "stdout"
        }
      ]
    },
    {
      "cell_type": "code",
      "metadata": {
        "id": "jCei74OIPjX2",
        "colab_type": "code",
        "colab": {}
      },
      "source": [
        "import torch\n",
        "from wavenet_model import *\n",
        "from audio_data import WavenetDataset\n",
        "from wavenet_training import *\n",
        "from model_logging import *"
      ],
      "execution_count": 0,
      "outputs": []
    },
    {
      "cell_type": "code",
      "metadata": {
        "id": "dkyb5z5YS_1w",
        "colab_type": "code",
        "colab": {
          "base_uri": "https://localhost:8080/",
          "height": 35
        },
        "outputId": "6e0d0728-844c-49c9-91fb-1323a68a88ec"
      },
      "source": [
        "# initialize cuda option\n",
        "dtype = torch.FloatTensor # data type\n",
        "ltype = torch.LongTensor # label type\n",
        "\n",
        "use_cuda = torch.cuda.is_available()\n",
        "if use_cuda:\n",
        "    print('use gpu')\n",
        "    dtype = torch.cuda.FloatTensor\n",
        "    ltype = torch.cuda.LongTensor\n",
        "else: \n",
        "    print('gpu not available')"
      ],
      "execution_count": 30,
      "outputs": [
        {
          "output_type": "stream",
          "text": [
            "gpu not available\n"
          ],
          "name": "stdout"
        }
      ]
    },
    {
      "cell_type": "code",
      "metadata": {
        "id": "uDJ5j-K5TIb2",
        "colab_type": "code",
        "colab": {
          "base_uri": "https://localhost:8080/",
          "height": 1000
        },
        "outputId": "5a85153f-7047-42ad-8b89-72d517c57566"
      },
      "source": [
        "model = WaveNetModel(layers=10,\n",
        "                     blocks=3,\n",
        "                     dilation_channels=32,\n",
        "                     residual_channels=32,\n",
        "                     skip_channels=1024,\n",
        "                     end_channels=512, \n",
        "                     output_length=16,\n",
        "                     dtype=dtype, \n",
        "                     bias=True)\n",
        "# model = load_latest_model_from('snapshots', use_cuda=use_cuda)\n",
        "\n",
        "print('model: ', model)\n",
        "print('receptive field: ', model.receptive_field)\n",
        "print('parameter count: ', model.parameter_count())"
      ],
      "execution_count": 31,
      "outputs": [
        {
          "output_type": "stream",
          "text": [
            "model:  WaveNetModel(\n",
            "  (filter_convs): ModuleList(\n",
            "    (0): Conv1d (32, 32, kernel_size=(2,), stride=(1,))\n",
            "    (1): Conv1d (32, 32, kernel_size=(2,), stride=(1,))\n",
            "    (2): Conv1d (32, 32, kernel_size=(2,), stride=(1,))\n",
            "    (3): Conv1d (32, 32, kernel_size=(2,), stride=(1,))\n",
            "    (4): Conv1d (32, 32, kernel_size=(2,), stride=(1,))\n",
            "    (5): Conv1d (32, 32, kernel_size=(2,), stride=(1,))\n",
            "    (6): Conv1d (32, 32, kernel_size=(2,), stride=(1,))\n",
            "    (7): Conv1d (32, 32, kernel_size=(2,), stride=(1,))\n",
            "    (8): Conv1d (32, 32, kernel_size=(2,), stride=(1,))\n",
            "    (9): Conv1d (32, 32, kernel_size=(2,), stride=(1,))\n",
            "    (10): Conv1d (32, 32, kernel_size=(2,), stride=(1,))\n",
            "    (11): Conv1d (32, 32, kernel_size=(2,), stride=(1,))\n",
            "    (12): Conv1d (32, 32, kernel_size=(2,), stride=(1,))\n",
            "    (13): Conv1d (32, 32, kernel_size=(2,), stride=(1,))\n",
            "    (14): Conv1d (32, 32, kernel_size=(2,), stride=(1,))\n",
            "    (15): Conv1d (32, 32, kernel_size=(2,), stride=(1,))\n",
            "    (16): Conv1d (32, 32, kernel_size=(2,), stride=(1,))\n",
            "    (17): Conv1d (32, 32, kernel_size=(2,), stride=(1,))\n",
            "    (18): Conv1d (32, 32, kernel_size=(2,), stride=(1,))\n",
            "    (19): Conv1d (32, 32, kernel_size=(2,), stride=(1,))\n",
            "    (20): Conv1d (32, 32, kernel_size=(2,), stride=(1,))\n",
            "    (21): Conv1d (32, 32, kernel_size=(2,), stride=(1,))\n",
            "    (22): Conv1d (32, 32, kernel_size=(2,), stride=(1,))\n",
            "    (23): Conv1d (32, 32, kernel_size=(2,), stride=(1,))\n",
            "    (24): Conv1d (32, 32, kernel_size=(2,), stride=(1,))\n",
            "    (25): Conv1d (32, 32, kernel_size=(2,), stride=(1,))\n",
            "    (26): Conv1d (32, 32, kernel_size=(2,), stride=(1,))\n",
            "    (27): Conv1d (32, 32, kernel_size=(2,), stride=(1,))\n",
            "    (28): Conv1d (32, 32, kernel_size=(2,), stride=(1,))\n",
            "    (29): Conv1d (32, 32, kernel_size=(2,), stride=(1,))\n",
            "  )\n",
            "  (gate_convs): ModuleList(\n",
            "    (0): Conv1d (32, 32, kernel_size=(2,), stride=(1,))\n",
            "    (1): Conv1d (32, 32, kernel_size=(2,), stride=(1,))\n",
            "    (2): Conv1d (32, 32, kernel_size=(2,), stride=(1,))\n",
            "    (3): Conv1d (32, 32, kernel_size=(2,), stride=(1,))\n",
            "    (4): Conv1d (32, 32, kernel_size=(2,), stride=(1,))\n",
            "    (5): Conv1d (32, 32, kernel_size=(2,), stride=(1,))\n",
            "    (6): Conv1d (32, 32, kernel_size=(2,), stride=(1,))\n",
            "    (7): Conv1d (32, 32, kernel_size=(2,), stride=(1,))\n",
            "    (8): Conv1d (32, 32, kernel_size=(2,), stride=(1,))\n",
            "    (9): Conv1d (32, 32, kernel_size=(2,), stride=(1,))\n",
            "    (10): Conv1d (32, 32, kernel_size=(2,), stride=(1,))\n",
            "    (11): Conv1d (32, 32, kernel_size=(2,), stride=(1,))\n",
            "    (12): Conv1d (32, 32, kernel_size=(2,), stride=(1,))\n",
            "    (13): Conv1d (32, 32, kernel_size=(2,), stride=(1,))\n",
            "    (14): Conv1d (32, 32, kernel_size=(2,), stride=(1,))\n",
            "    (15): Conv1d (32, 32, kernel_size=(2,), stride=(1,))\n",
            "    (16): Conv1d (32, 32, kernel_size=(2,), stride=(1,))\n",
            "    (17): Conv1d (32, 32, kernel_size=(2,), stride=(1,))\n",
            "    (18): Conv1d (32, 32, kernel_size=(2,), stride=(1,))\n",
            "    (19): Conv1d (32, 32, kernel_size=(2,), stride=(1,))\n",
            "    (20): Conv1d (32, 32, kernel_size=(2,), stride=(1,))\n",
            "    (21): Conv1d (32, 32, kernel_size=(2,), stride=(1,))\n",
            "    (22): Conv1d (32, 32, kernel_size=(2,), stride=(1,))\n",
            "    (23): Conv1d (32, 32, kernel_size=(2,), stride=(1,))\n",
            "    (24): Conv1d (32, 32, kernel_size=(2,), stride=(1,))\n",
            "    (25): Conv1d (32, 32, kernel_size=(2,), stride=(1,))\n",
            "    (26): Conv1d (32, 32, kernel_size=(2,), stride=(1,))\n",
            "    (27): Conv1d (32, 32, kernel_size=(2,), stride=(1,))\n",
            "    (28): Conv1d (32, 32, kernel_size=(2,), stride=(1,))\n",
            "    (29): Conv1d (32, 32, kernel_size=(2,), stride=(1,))\n",
            "  )\n",
            "  (residual_convs): ModuleList(\n",
            "    (0): Conv1d (32, 32, kernel_size=(1,), stride=(1,))\n",
            "    (1): Conv1d (32, 32, kernel_size=(1,), stride=(1,))\n",
            "    (2): Conv1d (32, 32, kernel_size=(1,), stride=(1,))\n",
            "    (3): Conv1d (32, 32, kernel_size=(1,), stride=(1,))\n",
            "    (4): Conv1d (32, 32, kernel_size=(1,), stride=(1,))\n",
            "    (5): Conv1d (32, 32, kernel_size=(1,), stride=(1,))\n",
            "    (6): Conv1d (32, 32, kernel_size=(1,), stride=(1,))\n",
            "    (7): Conv1d (32, 32, kernel_size=(1,), stride=(1,))\n",
            "    (8): Conv1d (32, 32, kernel_size=(1,), stride=(1,))\n",
            "    (9): Conv1d (32, 32, kernel_size=(1,), stride=(1,))\n",
            "    (10): Conv1d (32, 32, kernel_size=(1,), stride=(1,))\n",
            "    (11): Conv1d (32, 32, kernel_size=(1,), stride=(1,))\n",
            "    (12): Conv1d (32, 32, kernel_size=(1,), stride=(1,))\n",
            "    (13): Conv1d (32, 32, kernel_size=(1,), stride=(1,))\n",
            "    (14): Conv1d (32, 32, kernel_size=(1,), stride=(1,))\n",
            "    (15): Conv1d (32, 32, kernel_size=(1,), stride=(1,))\n",
            "    (16): Conv1d (32, 32, kernel_size=(1,), stride=(1,))\n",
            "    (17): Conv1d (32, 32, kernel_size=(1,), stride=(1,))\n",
            "    (18): Conv1d (32, 32, kernel_size=(1,), stride=(1,))\n",
            "    (19): Conv1d (32, 32, kernel_size=(1,), stride=(1,))\n",
            "    (20): Conv1d (32, 32, kernel_size=(1,), stride=(1,))\n",
            "    (21): Conv1d (32, 32, kernel_size=(1,), stride=(1,))\n",
            "    (22): Conv1d (32, 32, kernel_size=(1,), stride=(1,))\n",
            "    (23): Conv1d (32, 32, kernel_size=(1,), stride=(1,))\n",
            "    (24): Conv1d (32, 32, kernel_size=(1,), stride=(1,))\n",
            "    (25): Conv1d (32, 32, kernel_size=(1,), stride=(1,))\n",
            "    (26): Conv1d (32, 32, kernel_size=(1,), stride=(1,))\n",
            "    (27): Conv1d (32, 32, kernel_size=(1,), stride=(1,))\n",
            "    (28): Conv1d (32, 32, kernel_size=(1,), stride=(1,))\n",
            "    (29): Conv1d (32, 32, kernel_size=(1,), stride=(1,))\n",
            "  )\n",
            "  (skip_convs): ModuleList(\n",
            "    (0): Conv1d (32, 1024, kernel_size=(1,), stride=(1,))\n",
            "    (1): Conv1d (32, 1024, kernel_size=(1,), stride=(1,))\n",
            "    (2): Conv1d (32, 1024, kernel_size=(1,), stride=(1,))\n",
            "    (3): Conv1d (32, 1024, kernel_size=(1,), stride=(1,))\n",
            "    (4): Conv1d (32, 1024, kernel_size=(1,), stride=(1,))\n",
            "    (5): Conv1d (32, 1024, kernel_size=(1,), stride=(1,))\n",
            "    (6): Conv1d (32, 1024, kernel_size=(1,), stride=(1,))\n",
            "    (7): Conv1d (32, 1024, kernel_size=(1,), stride=(1,))\n",
            "    (8): Conv1d (32, 1024, kernel_size=(1,), stride=(1,))\n",
            "    (9): Conv1d (32, 1024, kernel_size=(1,), stride=(1,))\n",
            "    (10): Conv1d (32, 1024, kernel_size=(1,), stride=(1,))\n",
            "    (11): Conv1d (32, 1024, kernel_size=(1,), stride=(1,))\n",
            "    (12): Conv1d (32, 1024, kernel_size=(1,), stride=(1,))\n",
            "    (13): Conv1d (32, 1024, kernel_size=(1,), stride=(1,))\n",
            "    (14): Conv1d (32, 1024, kernel_size=(1,), stride=(1,))\n",
            "    (15): Conv1d (32, 1024, kernel_size=(1,), stride=(1,))\n",
            "    (16): Conv1d (32, 1024, kernel_size=(1,), stride=(1,))\n",
            "    (17): Conv1d (32, 1024, kernel_size=(1,), stride=(1,))\n",
            "    (18): Conv1d (32, 1024, kernel_size=(1,), stride=(1,))\n",
            "    (19): Conv1d (32, 1024, kernel_size=(1,), stride=(1,))\n",
            "    (20): Conv1d (32, 1024, kernel_size=(1,), stride=(1,))\n",
            "    (21): Conv1d (32, 1024, kernel_size=(1,), stride=(1,))\n",
            "    (22): Conv1d (32, 1024, kernel_size=(1,), stride=(1,))\n",
            "    (23): Conv1d (32, 1024, kernel_size=(1,), stride=(1,))\n",
            "    (24): Conv1d (32, 1024, kernel_size=(1,), stride=(1,))\n",
            "    (25): Conv1d (32, 1024, kernel_size=(1,), stride=(1,))\n",
            "    (26): Conv1d (32, 1024, kernel_size=(1,), stride=(1,))\n",
            "    (27): Conv1d (32, 1024, kernel_size=(1,), stride=(1,))\n",
            "    (28): Conv1d (32, 1024, kernel_size=(1,), stride=(1,))\n",
            "    (29): Conv1d (32, 1024, kernel_size=(1,), stride=(1,))\n",
            "  )\n",
            "  (start_conv): Conv1d (256, 32, kernel_size=(1,), stride=(1,))\n",
            "  (end_conv_1): Conv1d (1024, 512, kernel_size=(1,), stride=(1,))\n",
            "  (end_conv_2): Conv1d (512, 256, kernel_size=(1,), stride=(1,))\n",
            ")\n",
            "receptive field:  3070\n",
            "parameter count:  1834592\n"
          ],
          "name": "stdout"
        }
      ]
    },
    {
      "cell_type": "code",
      "metadata": {
        "id": "38EHnhTRTPdz",
        "colab_type": "code",
        "colab": {
          "base_uri": "https://localhost:8080/",
          "height": 53
        },
        "outputId": "02fd81b1-ae46-43dc-b755-f0c7ab902c78"
      },
      "source": [
        "data = WavenetDataset(dataset_file='train_samples/bach_chaconne/dataset.npz',\n",
        "                      item_length=model.receptive_field + model.output_length - 1,\n",
        "                      target_length=model.output_length,\n",
        "                      file_location='train_samples/bach_chaconne',\n",
        "                      test_stride=500)\n",
        "print('the dataset has ' + str(len(data)) + ' items')"
      ],
      "execution_count": 32,
      "outputs": [
        {
          "output_type": "stream",
          "text": [
            "one hot input\n",
            "the dataset has 598277 items\n"
          ],
          "name": "stdout"
        }
      ]
    },
    {
      "cell_type": "code",
      "metadata": {
        "id": "ARozJb6YTZAv",
        "colab_type": "code",
        "colab": {}
      },
      "source": [
        "def generate_and_log_samples(step):\n",
        "    sample_length=32000\n",
        "    gen_model = load_latest_model_from('snapshots', use_cuda=True)\n",
        "    print(\"start generating...\")\n",
        "    samples = generate_audio(gen_model,\n",
        "                             length=sample_length,\n",
        "                             temperatures=[0.5])\n",
        "    tf_samples = tf.convert_to_tensor(samples, dtype=tf.float32)\n",
        "    logger.audio_summary('temperature_0.5', tf_samples, step, sr=16000)\n",
        "\n",
        "    samples = generate_audio(gen_model,\n",
        "                             length=sample_length,\n",
        "                             temperatures=[1.])\n",
        "    tf_samples = tf.convert_to_tensor(samples, dtype=tf.float32)\n",
        "    logger.audio_summary('temperature_1.0', tf_samples, step, sr=16000)\n",
        "    print(\"audio clips generated\")"
      ],
      "execution_count": 0,
      "outputs": []
    },
    {
      "cell_type": "code",
      "metadata": {
        "id": "3K118hGKTfk-",
        "colab_type": "code",
        "colab": {}
      },
      "source": [
        "#logger = TensorboardLogger(log_interval=200,\n",
        "#                           validation_interval=400,\n",
        "#                           generate_interval=1000,\n",
        "#                           generate_function=generate_and_log_samples,\n",
        "#                           log_dir=\"logs/chaconne_model\")\n",
        "\n",
        "logger = Logger(log_interval=200,\n",
        "                validation_interval=400,\n",
        "                generate_interval=1000)"
      ],
      "execution_count": 0,
      "outputs": []
    },
    {
      "cell_type": "code",
      "metadata": {
        "id": "54HyQYniTjxR",
        "colab_type": "code",
        "colab": {
          "base_uri": "https://localhost:8080/",
          "height": 53
        },
        "outputId": "ff3114c1-72d8-4a1d-dbcf-9bb15a70d4af"
      },
      "source": [
        "trainer = WavenetTrainer(model=model,\n",
        "                         dataset=data,\n",
        "                         lr=0.001,\n",
        "                         snapshot_path='snapshots',\n",
        "                         snapshot_name='chaconne_model',\n",
        "                         snapshot_interval=1000,\n",
        "                         logger=logger,\n",
        "                         dtype=dtype,\n",
        "                         ltype=ltype)\n",
        "\n",
        "print('start training...')\n",
        "trainer.train(batch_size=16,\n",
        "              epochs=10)"
      ],
      "execution_count": 0,
      "outputs": [
        {
          "output_type": "stream",
          "text": [
            "start training...\n",
            "epoch 0\n"
          ],
          "name": "stdout"
        }
      ]
    },
    {
      "cell_type": "code",
      "metadata": {
        "id": "Th4ZUMu_Pk0w",
        "colab_type": "code",
        "colab": {}
      },
      "source": [
        "start_data = data[250000][0] # use start data from the data set\n",
        "start_data = torch.max(start_data, 0)[1] # convert one hot vectors to integers\n",
        "\n",
        "def prog_callback(step, total_steps):\n",
        "    print(str(100 * step // total_steps) + \"% generated\")\n",
        "\n",
        "generated = model.generate_fast(num_samples=160000,\n",
        "                                 first_samples=start_data,\n",
        "                                 progress_callback=prog_callback,\n",
        "                                 progress_interval=1000,\n",
        "                                 temperature=1.0,\n",
        "                                 regularize=0.)\n",
        "\n",
        "\n",
        "import IPython.display as ipd\n",
        "\n",
        "ipd.Audio(generated, rate=16000)"
      ],
      "execution_count": 0,
      "outputs": []
    }
  ]
}