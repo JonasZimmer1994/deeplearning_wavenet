{
  "nbformat": 4,
  "nbformat_minor": 0,
  "metadata": {
    "colab": {
      "name": "wavenet_tensorflow_abgabe.ipynb",
      "provenance": [],
      "collapsed_sections": [
        "kChfmyxcZYAq",
        "do1x1JuWZe5x",
        "8o8AmdSqZhEw",
        "DwtAJAr6phj8"
      ]
    },
    "kernelspec": {
      "name": "python3",
      "display_name": "Python 3"
    },
    "accelerator": "GPU"
  },
  "cells": [
    {
      "cell_type": "markdown",
      "metadata": {
        "id": "XuJOSzbAUxLq",
        "colab_type": "text"
      },
      "source": [
        "# Wavenet Implementation with TensorFlow"
      ]
    },
    {
      "cell_type": "markdown",
      "metadata": {
        "id": "kChfmyxcZYAq",
        "colab_type": "text"
      },
      "source": [
        "##Preparation of the Environment"
      ]
    },
    {
      "cell_type": "code",
      "metadata": {
        "id": "_VFBmU070AeF",
        "colab_type": "code",
        "cellView": "form",
        "colab": {}
      },
      "source": [
        "#@title Cloning of the important Script from GitHub\n",
        "!git clone https://github.com/ibab/tensorflow-wavenet.git"
      ],
      "execution_count": 0,
      "outputs": []
    },
    {
      "cell_type": "code",
      "metadata": {
        "id": "eECkQ_hk0LV7",
        "colab_type": "code",
        "cellView": "form",
        "colab": {}
      },
      "source": [
        "#@title Navigating to the correct path\n",
        "%cd tensorflow-wavenet/"
      ],
      "execution_count": 0,
      "outputs": []
    },
    {
      "cell_type": "code",
      "metadata": {
        "id": "WNMJeYgm0Q1d",
        "colab_type": "code",
        "cellView": "form",
        "colab": {}
      },
      "source": [
        "#@title Here, the corpus folder is created\n",
        "import os\n",
        "os.mkdir('corpus')"
      ],
      "execution_count": 0,
      "outputs": []
    },
    {
      "cell_type": "markdown",
      "metadata": {
        "id": "c4Op3v4qacn9",
        "colab_type": "text"
      },
      "source": [
        "To train the Model, one can choose the Data to train on. This Data needs to be in the corpus folder. As Trainingdata one can use for example the VCTK corpus. It contains multiple Speech-recordings of diverse speakers.\n",
        "\n",
        "Link: http://homepages.inf.ed.ac.uk/jyamagis/page3/page58/page58.html "
      ]
    },
    {
      "cell_type": "code",
      "metadata": {
        "id": "JCGSXcxRJnOb",
        "colab_type": "code",
        "cellView": "form",
        "colab": {}
      },
      "source": [
        "#@title Here the needed requirements that are defined in reqirements.txt are getting downloaded and installed\n",
        "!pip install -r requirements.txt"
      ],
      "execution_count": 0,
      "outputs": []
    },
    {
      "cell_type": "code",
      "metadata": {
        "id": "sS2IZTFyNpRD",
        "colab_type": "code",
        "cellView": "form",
        "colab": {}
      },
      "source": [
        "#@title Because the current Tensorflow-Version of Colab differs from the required Version, Tensorflow-Version 1.12.0 is downloaded and installed here.\n",
        "!pip install tensorflow==1.12.0\n",
        "import tensorflow as tf\n",
        "print(tf.__version__)"
      ],
      "execution_count": 0,
      "outputs": []
    },
    {
      "cell_type": "markdown",
      "metadata": {
        "id": "do1x1JuWZe5x",
        "colab_type": "text"
      },
      "source": [
        "##Training the Network"
      ]
    },
    {
      "cell_type": "code",
      "metadata": {
        "id": "3ee12FjhNAqP",
        "colab_type": "code",
        "cellView": "form",
        "colab": {}
      },
      "source": [
        "#@title In this Codeblock, the WaveNet is trained. The training is taking place as defined in train.py. For the WaveNet recognizing the Audio-Samples, the Variable SILENCE_THRESHOLD in the file train.py needs to be kept low. One was able to train the Net with a Value of 0.1.\n",
        "!python train.py --data_dir=corpus"
      ],
      "execution_count": 0,
      "outputs": []
    },
    {
      "cell_type": "markdown",
      "metadata": {
        "id": "8o8AmdSqZhEw",
        "colab_type": "text"
      },
      "source": [
        "##Generating Audio"
      ]
    },
    {
      "cell_type": "code",
      "metadata": {
        "id": "qSYfazdf1IPs",
        "colab_type": "code",
        "cellView": "form",
        "colab": {}
      },
      "source": [
        "#@title Here the output is generated. This happens on the basis of the trained network. Therefore the right logging path needs to be stated. The correct Model needs to be chosen aswell. This is defined by the Number of Steps it was trained. The samples flag enables the specification of the output length. 16000 samples are one second of output. The wav_out_path flag is stating the name of the output file.\n",
        "!python generate.py --wav_out_path=generated.wav --samples 16000 logdir/train/2020-01-13T21-46-31/model.ckpt-50"
      ],
      "execution_count": 0,
      "outputs": []
    },
    {
      "cell_type": "markdown",
      "metadata": {
        "id": "DwtAJAr6phj8",
        "colab_type": "text"
      },
      "source": [
        "##Sources"
      ]
    },
    {
      "cell_type": "markdown",
      "metadata": {
        "id": "pZh-fDkgqIHH",
        "colab_type": "text"
      },
      "source": [
        "[Deep Minds Blog Article about WaveNet](https://deepmind.com/blog/article/wavenet-generative-model-raw-audio)\n",
        "\n",
        "[WaveNet Paper](https://arxiv.org/pdf/1609.03499.pdf)\n",
        "\n",
        "[Github tensorflow WaveNet Project](https://github.com/ibab/tensorflow-wavenet)\n",
        "\n",
        "[Google Assistants Voice Synthesizer, overview of WaveNet](https://towardsdatascience.com/wavenet-google-assistants-voice-synthesizer-a168e9af13b1)"
      ]
    }
  ]
}